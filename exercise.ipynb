{
 "cells": [
  {
   "cell_type": "code",
   "execution_count": 1,
   "id": "aa28d0db",
   "metadata": {},
   "outputs": [
    {
     "name": "stdout",
     "output_type": "stream",
     "text": [
      "5\n",
      "4\n",
      "7\n",
      "3\n",
      "9\n",
      "3\n"
     ]
    }
   ],
   "source": [
    "element=[5,4,7,3,9,3]\n",
    "for i in element:\n",
    "    print(i)"
   ]
  },
  {
   "cell_type": "code",
   "execution_count": 3,
   "id": "f4ab8bfa",
   "metadata": {},
   "outputs": [
    {
     "name": "stdout",
     "output_type": "stream",
     "text": [
      "how many element u want to insert? 5\n",
      "enter element: 1\n",
      "enter element: 2\n",
      "enter element: 3\n",
      "enter element: 4\n",
      "enter element: 5\n",
      "the list is  : ['1', '2', '3', '4', '5']\n"
     ]
    }
   ],
   "source": [
    "list1=[]\n",
    "n=int(input(\"how many element u want to insert? \"))\n",
    "for i in range(0,n):\n",
    "    list1.append(input(\"enter element: \"))\n",
    "print(\"the list is  :\",list1)"
   ]
  },
  {
   "cell_type": "code",
   "execution_count": 3,
   "id": "c9d9c665",
   "metadata": {},
   "outputs": [
    {
     "name": "stdout",
     "output_type": "stream",
     "text": [
      "[2, 4, 6, 'a']\n"
     ]
    }
   ],
   "source": [
    "list2=[1,2,3,4,5,6,7,\"a\"]\n",
    "list3=[]\n",
    "for i in range(len(list2)):\n",
    "    if i%2!=0:\n",
    "        list3.append(list2[i])\n",
    "print(list3)\n",
    "    \n",
    "    \n",
    "     "
   ]
  },
  {
   "cell_type": "code",
   "execution_count": 4,
   "id": "32c00793",
   "metadata": {},
   "outputs": [
    {
     "name": "stdout",
     "output_type": "stream",
     "text": [
      "10\n",
      "24\n"
     ]
    }
   ],
   "source": [
    "list4=[1,2,3,4]\n",
    "sum=0\n",
    "mul=1\n",
    "for i in list4:\n",
    "    sum=sum+i\n",
    "    mul=mul*i\n",
    "print(sum)\n",
    "print(mul)\n"
   ]
  },
  {
   "cell_type": "code",
   "execution_count": 10,
   "id": "3782d52b",
   "metadata": {},
   "outputs": [
    {
     "name": "stdout",
     "output_type": "stream",
     "text": [
      "90\n",
      "4\n"
     ]
    }
   ],
   "source": [
    "list5=[8,4,11,7,90]\n",
    "max1=max(list5)\n",
    "min1=min(list5)\n",
    "print(max1)\n",
    "print(min1)"
   ]
  },
  {
   "cell_type": "code",
   "execution_count": null,
   "id": "bc29fb1d",
   "metadata": {},
   "outputs": [],
   "source": []
  },
  {
   "cell_type": "code",
   "execution_count": 13,
   "id": "3a34b774",
   "metadata": {},
   "outputs": [
    {
     "name": "stdout",
     "output_type": "stream",
     "text": [
      "ashutosh\n"
     ]
    }
   ],
   "source": [
    "list7=[\"a\",\"s\",\"h\",\"u\",\"t\",\"o\",\"s\",\"h\"]\n",
    "str1=\"\"\n",
    "for i in list7:\n",
    "    str1=str1+i\n",
    "print(str1)"
   ]
  },
  {
   "cell_type": "code",
   "execution_count": 22,
   "id": "d6c901e3",
   "metadata": {},
   "outputs": [
    {
     "name": "stdout",
     "output_type": "stream",
     "text": [
      "14.0\n"
     ]
    }
   ],
   "source": [
    "def avg(*var,sum1=0):\n",
    "    \n",
    "    for i in var:\n",
    "        sum1=sum1+i\n",
    "    return sum1\n",
    "sum2=avg(3,5,7,5,8,sum1=0)\n",
    "average=sum2/2\n",
    "print(average)"
   ]
  },
  {
   "cell_type": "code",
   "execution_count": 2,
   "id": "680338f3",
   "metadata": {},
   "outputs": [
    {
     "name": "stdout",
     "output_type": "stream",
     "text": [
      "['rt', 'Abc', 1.34, 5.5, 3, 2, 'a', 10]\n"
     ]
    }
   ],
   "source": [
    "list9=[10,\"a\",2,3,5.5,1.34,\"Abc\",\"rt\"]\n",
    "list10=[]\n",
    "for i in list9:\n",
    "    list10.insert(0,i)\n",
    "print(list10)"
   ]
  },
  {
   "cell_type": "code",
   "execution_count": 17,
   "id": "1f8d2d56",
   "metadata": {},
   "outputs": [
    {
     "name": "stdout",
     "output_type": "stream",
     "text": [
      "('p', 'y', 't', 'h', 'o', 'n', '1', '.', '2')\n"
     ]
    }
   ],
   "source": [
    "str1=\"python1.2\"\n",
    "list11=[]\n",
    "for i in str1:\n",
    "    list11.append(i)\n",
    "list12=tuple(list11)\n",
    "print(list12)\n"
   ]
  },
  {
   "cell_type": "code",
   "execution_count": null,
   "id": "bb976b72",
   "metadata": {},
   "outputs": [],
   "source": []
  }
 ],
 "metadata": {
  "kernelspec": {
   "display_name": "Python 3 (ipykernel)",
   "language": "python",
   "name": "python3"
  },
  "language_info": {
   "codemirror_mode": {
    "name": "ipython",
    "version": 3
   },
   "file_extension": ".py",
   "mimetype": "text/x-python",
   "name": "python",
   "nbconvert_exporter": "python",
   "pygments_lexer": "ipython3",
   "version": "3.9.12"
  }
 },
 "nbformat": 4,
 "nbformat_minor": 5
}
